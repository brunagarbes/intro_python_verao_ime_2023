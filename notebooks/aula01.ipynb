{
 "cells": [
  {
   "cell_type": "markdown",
   "metadata": {
    "collapsed": true,
    "pycharm": {
     "name": "#%% md\n"
    }
   },
   "source": [
    "# Introdução ao Python para análise exploratória de dados - aula01"
   ]
  },
  {
   "cell_type": "markdown",
   "metadata": {
    "pycharm": {
     "name": "#%% md\n"
    }
   },
   "source": [
    "![](../img/intro_python.png)"
   ]
  },
  {
   "cell_type": "markdown",
   "metadata": {
    "pycharm": {
     "name": "#%% md\n"
    }
   },
   "source": [
    " Na última aula falamos sobre os tipos mais simples de variáveis do Python. Nesta aula falaremos sobre variáveis mais complexas, mas que ainda assim fazem parte do conjunto de variáveis nativas (*built-in*) do Python: lista, tupla e dicionário."
   ]
  },
  {
   "cell_type": "markdown",
   "metadata": {
    "pycharm": {
     "name": "#%% md\n"
    }
   },
   "source": [
    "**Lista:** é uma coleção de itens armazenados de forma sequencial e ordenada.\n",
    "Podemos colocar qualquer informação em uma lista e os itens dela não precisam ser relacionados. As listas são acessadas por meio de um índice.\n",
    "\n",
    "**Tupla:** também é uma coleção de itens, porém imutável\n",
    "Uma vez criada, não podemos remover, adicionar ou alterar nenhum de seus itens.\n",
    "\n",
    "**Dicionário:** coleção não ordenada de pares chave- valor\n",
    "Cada item é acessado por uma chave que deve ser um valor imutável de qualquer tipo (string, numérico ou tupla, por exemplo)"
   ]
  },
  {
   "cell_type": "markdown",
   "metadata": {
    "pycharm": {
     "name": "#%% md\n"
    }
   },
   "source": [
    "## Lista"
   ]
  },
  {
   "cell_type": "code",
   "execution_count": 1,
   "metadata": {
    "pycharm": {
     "name": "#%%\n"
    }
   },
   "outputs": [],
   "source": [
    "filme = ['Pulp fiction', 1994, 'Crime/Drama', 8.9]"
   ]
  },
  {
   "cell_type": "code",
   "execution_count": 5,
   "metadata": {
    "pycharm": {
     "name": "#%%\n"
    }
   },
   "outputs": [
    {
     "data": {
      "text/plain": [
       "'Pulp fiction'"
      ]
     },
     "execution_count": 5,
     "metadata": {},
     "output_type": "execute_result"
    }
   ],
   "source": [
    "filme[0]"
   ]
  },
  {
   "cell_type": "code",
   "execution_count": 6,
   "metadata": {
    "pycharm": {
     "name": "#%%\n"
    }
   },
   "outputs": [],
   "source": [
    "filme = ['Pulp fiction', 1994, 'Crime/Drama', 8.9, ['John Travolta', 'Uma Thurman', 'Samuel L. Jackson']]"
   ]
  },
  {
   "cell_type": "code",
   "execution_count": 7,
   "metadata": {
    "pycharm": {
     "name": "#%%\n"
    }
   },
   "outputs": [
    {
     "data": {
      "text/plain": [
       "['John Travolta', 'Uma Thurman', 'Samuel L. Jackson']"
      ]
     },
     "execution_count": 7,
     "metadata": {},
     "output_type": "execute_result"
    }
   ],
   "source": [
    "filme[4]"
   ]
  },
  {
   "cell_type": "code",
   "execution_count": 8,
   "metadata": {
    "pycharm": {
     "name": "#%%\n"
    }
   },
   "outputs": [
    {
     "data": {
      "text/plain": [
       "'Uma Thurman'"
      ]
     },
     "execution_count": 8,
     "metadata": {},
     "output_type": "execute_result"
    }
   ],
   "source": [
    "filme[4][1]"
   ]
  },
  {
   "cell_type": "markdown",
   "metadata": {
    "pycharm": {
     "name": "#%% md\n"
    }
   },
   "source": [
    "### Comandos para usar com listas\n",
    "\n",
    "**.count()** # conta quantas vezes um dado valor ocorre dentro da lista\n",
    "\n",
    "**.append()** # acrescenta dados ao final de uma lista\n",
    "\n",
    "**.insert()** # insere um elemento em uma posicão específica da lista. É computacionalmente mais custoso do que append.\n",
    "\n",
    "**.pop** # operacão inversa do insert, ou seja, remove e retorna um elemento de um índice específico.\n",
    "\n",
    "**.remove** # localiza o primeiro valor correspondente e o remove da lista\n",
    "\n",
    "**.join()** # gruda os elementos de uma sequência de strings, usando um parâmetro fornecido. Só funciona com lista de strings\n",
    "\n",
    "**.split()** # separa uma string com base em algum caracter, criando assim uma lista de strings.\n",
    "\n",
    "**.sort()** # ordena uma lista *in place*, ou seja, sem criar um novo objeto\n",
    "\n"
   ]
  },
  {
   "cell_type": "code",
   "execution_count": 34,
   "metadata": {
    "pycharm": {
     "name": "#%%\n"
    }
   },
   "outputs": [
    {
     "data": {
      "text/plain": [
       "1"
      ]
     },
     "execution_count": 34,
     "metadata": {},
     "output_type": "execute_result"
    }
   ],
   "source": [
    "filme = ['Pulp fiction', 1994, 'Crime/Drama', 8.9,\n",
    "         ['John Travolta', 'Uma Thurman', 'Samuel L. Jackson']]\n",
    "filme.count(1994)"
   ]
  },
  {
   "cell_type": "code",
   "execution_count": 35,
   "metadata": {
    "pycharm": {
     "name": "#%%\n"
    }
   },
   "outputs": [
    {
     "name": "stdout",
     "output_type": "stream",
     "text": [
      "['Pulp fiction', 1994, 'Crime/Drama', 8.9, ['John Travolta', 'Uma Thurman', 'Samuel L. Jackson'], 'Quentin Tarantino']\n"
     ]
    }
   ],
   "source": [
    "filme.append(\"Quentin Tarantino\")\n",
    "print(filme)"
   ]
  },
  {
   "cell_type": "code",
   "execution_count": null,
   "metadata": {
    "pycharm": {
     "name": "#%%\n"
    }
   },
   "outputs": [],
   "source": [
    "filme.insert(1, \"Quentin Tarantino\")\n",
    "filme"
   ]
  },
  {
   "cell_type": "code",
   "execution_count": null,
   "metadata": {
    "pycharm": {
     "name": "#%%\n"
    }
   },
   "outputs": [],
   "source": [
    "filme.remove(\"Quentin Tarantino\")\n",
    "filme"
   ]
  },
  {
   "cell_type": "code",
   "execution_count": 12,
   "metadata": {
    "pycharm": {
     "name": "#%%\n"
    }
   },
   "outputs": [
    {
     "data": {
      "text/plain": [
       "'John Travolta e Uma Thurman e Samuel L. Jackson'"
      ]
     },
     "execution_count": 12,
     "metadata": {},
     "output_type": "execute_result"
    }
   ],
   "source": [
    "atores = ['John Travolta', 'Uma Thurman', 'Samuel L. Jackson']\n",
    "' e '.join(atores)"
   ]
  },
  {
   "cell_type": "code",
   "execution_count": 38,
   "metadata": {
    "pycharm": {
     "name": "#%%\n"
    }
   },
   "outputs": [
    {
     "data": {
      "text/plain": [
       "['9', ' 94', ' 5']"
      ]
     },
     "execution_count": 38,
     "metadata": {},
     "output_type": "execute_result"
    }
   ],
   "source": [
    "notas = '9, 94, 5' # notas do filme\n",
    "notas.split(',')"
   ]
  },
  {
   "cell_type": "code",
   "execution_count": 39,
   "metadata": {
    "pycharm": {
     "name": "#%%\n"
    }
   },
   "outputs": [],
   "source": [
    "notas = notas.split(',')"
   ]
  },
  {
   "cell_type": "code",
   "execution_count": 40,
   "metadata": {
    "pycharm": {
     "name": "#%%\n"
    }
   },
   "outputs": [
    {
     "name": "stdout",
     "output_type": "stream",
     "text": [
      "<class 'int'>\n"
     ]
    }
   ],
   "source": [
    "notas_int = [] # crio uma lista vazia que vai receber os numeros como int\n",
    "for n in notas:\n",
    "    notas_int.append(int(n)) # vou salvando cada um dos números transformados para o tipo int\n",
    "print(type(notas_int[0]))"
   ]
  },
  {
   "cell_type": "code",
   "execution_count": 45,
   "metadata": {
    "pycharm": {
     "name": "#%%\n"
    }
   },
   "outputs": [
    {
     "data": {
      "text/plain": [
       "[5, 9, 94]"
      ]
     },
     "execution_count": 45,
     "metadata": {},
     "output_type": "execute_result"
    }
   ],
   "source": [
    "notas_int.sort()\n",
    "notas_int"
   ]
  },
  {
   "cell_type": "code",
   "execution_count": 48,
   "metadata": {
    "pycharm": {
     "name": "#%%\n"
    }
   },
   "outputs": [
    {
     "data": {
      "text/plain": [
       "['Uma Thurman', 'John Travolta', 'Samuel L. Jackson']"
      ]
     },
     "execution_count": 48,
     "metadata": {},
     "output_type": "execute_result"
    }
   ],
   "source": [
    "atores.sort(key=len) # é possível passar um argumento para o sort ser feito pelo tamanho das strings\n",
    "atores"
   ]
  },
  {
   "cell_type": "markdown",
   "metadata": {
    "pycharm": {
     "name": "#%% md\n"
    }
   },
   "source": [
    "Podemos checar se uma lista contém um dado valor usando o operador *in*.\n",
    "Tamb[em podemos checar se uma lista **não** contém um dado valor usando o operador *not* em conjunto."
   ]
  },
  {
   "cell_type": "code",
   "execution_count": 36,
   "metadata": {
    "pycharm": {
     "name": "#%%\n"
    }
   },
   "outputs": [
    {
     "data": {
      "text/plain": [
       "True"
      ]
     },
     "execution_count": 36,
     "metadata": {},
     "output_type": "execute_result"
    }
   ],
   "source": [
    "1994 in filme"
   ]
  },
  {
   "cell_type": "code",
   "execution_count": 37,
   "metadata": {
    "pycharm": {
     "name": "#%%\n"
    }
   },
   "outputs": [
    {
     "data": {
      "text/plain": [
       "False"
      ]
     },
     "execution_count": 37,
     "metadata": {},
     "output_type": "execute_result"
    }
   ],
   "source": [
    "1994 not in filme"
   ]
  },
  {
   "cell_type": "markdown",
   "metadata": {
    "pycharm": {
     "name": "#%% md\n"
    }
   },
   "source": [
    "## Tupla"
   ]
  },
  {
   "cell_type": "code",
   "execution_count": null,
   "metadata": {
    "pycharm": {
     "name": "#%%\n"
    }
   },
   "outputs": [],
   "source": [
    "avaliacao = 'ótimo', 'bom', 'regular', 'ruim', 'péssimo'\n",
    "opiniao = ('ótimo', 'bom', 'regular', 'ruim', 'péssimo')\n",
    "avaliacao == opiniao"
   ]
  },
  {
   "cell_type": "code",
   "execution_count": null,
   "metadata": {
    "pycharm": {
     "name": "#%%\n"
    }
   },
   "outputs": [],
   "source": [
    "a = (1,) # para criar uma tupla de 1 elemento usamos a vírgula"
   ]
  },
  {
   "cell_type": "code",
   "execution_count": null,
   "metadata": {
    "pycharm": {
     "name": "#%%\n"
    }
   },
   "outputs": [],
   "source": [
    "type(a)"
   ]
  },
  {
   "cell_type": "code",
   "execution_count": null,
   "metadata": {
    "pycharm": {
     "name": "#%%\n"
    }
   },
   "outputs": [],
   "source": [
    "b = (1)"
   ]
  },
  {
   "cell_type": "code",
   "execution_count": null,
   "metadata": {
    "pycharm": {
     "name": "#%%\n"
    }
   },
   "outputs": [],
   "source": [
    "type(b)"
   ]
  },
  {
   "cell_type": "markdown",
   "metadata": {
    "pycharm": {
     "name": "#%% md\n"
    }
   },
   "source": [
    "Enquanto os objetos armazenados em uma tupla podem ser mutáveis, uma vez que ela é criada não é possível modificar os objetos que estão armazenados em cada índice dela."
   ]
  },
  {
   "cell_type": "code",
   "execution_count": 26,
   "metadata": {
    "pycharm": {
     "name": "#%%\n"
    }
   },
   "outputs": [
    {
     "ename": "TypeError",
     "evalue": "'tuple' object does not support item assignment",
     "output_type": "error",
     "traceback": [
      "\u001B[0;31m---------------------------------------------------------------------------\u001B[0m",
      "\u001B[0;31mTypeError\u001B[0m                                 Traceback (most recent call last)",
      "Cell \u001B[0;32mIn[26], line 2\u001B[0m\n\u001B[1;32m      1\u001B[0m tup \u001B[38;5;241m=\u001B[39m \u001B[38;5;28mtuple\u001B[39m([\u001B[38;5;124m'\u001B[39m\u001B[38;5;124mfoo\u001B[39m\u001B[38;5;124m'\u001B[39m, [\u001B[38;5;241m1\u001B[39m, \u001B[38;5;241m2\u001B[39m], \u001B[38;5;28;01mTrue\u001B[39;00m])\n\u001B[0;32m----> 2\u001B[0m \u001B[43mtup\u001B[49m\u001B[43m[\u001B[49m\u001B[38;5;241;43m2\u001B[39;49m\u001B[43m]\u001B[49m \u001B[38;5;241m=\u001B[39m \u001B[38;5;28;01mFalse\u001B[39;00m\n",
      "\u001B[0;31mTypeError\u001B[0m: 'tuple' object does not support item assignment"
     ]
    }
   ],
   "source": [
    "tup = tuple(['foo', [1, 2], True])\n",
    "tup[2] = False"
   ]
  },
  {
   "cell_type": "markdown",
   "metadata": {
    "pycharm": {
     "name": "#%% md\n"
    }
   },
   "source": [
    "Se um objeto dentro da tupla é mutável, como uma lista, você pode alterá-lo."
   ]
  },
  {
   "cell_type": "code",
   "execution_count": 28,
   "metadata": {
    "pycharm": {
     "name": "#%%\n"
    }
   },
   "outputs": [
    {
     "data": {
      "text/plain": [
       "('foo', [1, 2, 3, 3], True)"
      ]
     },
     "execution_count": 28,
     "metadata": {},
     "output_type": "execute_result"
    }
   ],
   "source": [
    "tup[1].append(3) # estamos mudando a lista que está dentro da tupla e não a tupla em si\n",
    "tup"
   ]
  },
  {
   "cell_type": "code",
   "execution_count": 29,
   "metadata": {
    "pycharm": {
     "name": "#%%\n"
    }
   },
   "outputs": [
    {
     "ename": "TypeError",
     "evalue": "'tuple' object does not support item assignment",
     "output_type": "error",
     "traceback": [
      "\u001B[0;31m---------------------------------------------------------------------------\u001B[0m",
      "\u001B[0;31mTypeError\u001B[0m                                 Traceback (most recent call last)",
      "Cell \u001B[0;32mIn[29], line 1\u001B[0m\n\u001B[0;32m----> 1\u001B[0m \u001B[43mtup\u001B[49m\u001B[43m[\u001B[49m\u001B[38;5;241;43m1\u001B[39;49m\u001B[43m]\u001B[49m \u001B[38;5;241m=\u001B[39m [\u001B[38;5;241m1\u001B[39m,\u001B[38;5;241m2\u001B[39m]\n",
      "\u001B[0;31mTypeError\u001B[0m: 'tuple' object does not support item assignment"
     ]
    }
   ],
   "source": [
    "tup[1] = [1,2]"
   ]
  },
  {
   "cell_type": "markdown",
   "metadata": {
    "pycharm": {
     "name": "#%% md\n"
    }
   },
   "source": [
    "### Comandos para usar com tuplas\n",
    "Já que o tamanho e o conteúdo de uma tupla não podem ser modificados, os comandos (ou métodos) relacionados a este tipo de objeto são poucos. Um método útil é o método *.count()* que também vimos disponível para listas"
   ]
  },
  {
   "cell_type": "markdown",
   "metadata": {
    "pycharm": {
     "name": "#%% md\n"
    }
   },
   "source": [
    "## Dicionário"
   ]
  },
  {
   "cell_type": "code",
   "execution_count": 52,
   "metadata": {
    "pycharm": {
     "name": "#%%\n"
    }
   },
   "outputs": [],
   "source": [
    "participante = {} # cria um dicionário vazio"
   ]
  },
  {
   "cell_type": "markdown",
   "metadata": {
    "pycharm": {
     "name": "#%% md\n"
    }
   },
   "source": [
    "Usamos colchetes para criar um dicionário e dois pontos para separa os pares de chave-valor."
   ]
  },
  {
   "cell_type": "code",
   "execution_count": 53,
   "metadata": {
    "pycharm": {
     "name": "#%%\n"
    }
   },
   "outputs": [],
   "source": [
    "participante = {'nome': 'Bruna', 'curso': 'Lógica de programação', 'nota': 10}"
   ]
  },
  {
   "cell_type": "markdown",
   "metadata": {
    "pycharm": {
     "name": "#%% md\n"
    }
   },
   "source": [
    "Podemos acessar, inserir ou configurar os elementos de um dicionário com a mesma sintaxe usada para acessar elementos de uma lista ou tupla"
   ]
  },
  {
   "cell_type": "code",
   "execution_count": 54,
   "metadata": {
    "pycharm": {
     "name": "#%%\n"
    }
   },
   "outputs": [
    {
     "data": {
      "text/plain": [
       "{'nome': 'Bruna', 'curso': 'Lógica de programação', 'nota': 10, 'faltas': 2}"
      ]
     },
     "execution_count": 54,
     "metadata": {},
     "output_type": "execute_result"
    }
   ],
   "source": [
    "participante['faltas'] = 2 # adiciona um novo par chave-valor\n",
    "participante"
   ]
  },
  {
   "cell_type": "code",
   "execution_count": 55,
   "metadata": {
    "pycharm": {
     "name": "#%%\n"
    }
   },
   "outputs": [
    {
     "data": {
      "text/plain": [
       "2"
      ]
     },
     "execution_count": 55,
     "metadata": {},
     "output_type": "execute_result"
    }
   ],
   "source": [
    "participante[\"faltas\"]"
   ]
  },
  {
   "cell_type": "code",
   "execution_count": 57,
   "metadata": {
    "pycharm": {
     "name": "#%%\n"
    }
   },
   "outputs": [
    {
     "data": {
      "text/plain": [
       "True"
      ]
     },
     "execution_count": 57,
     "metadata": {},
     "output_type": "execute_result"
    }
   ],
   "source": [
    "\"curso\" in participante # também podemos usar o operador in com dicionários"
   ]
  },
  {
   "cell_type": "markdown",
   "metadata": {
    "pycharm": {
     "name": "#%% md\n"
    }
   },
   "source": [
    "### Comandos para usar com dicionários\n",
    "**del** # deleta um valor\n",
    "**.pop()** # simultâneamente retorna o valor e deleta a chave\n",
    "**.keys()** # retorna as chaves que o dicionário possui\n",
    "**.values()** # retorna os valores armazenados no dicionário\n",
    "**.update()** # junta dois dicionários\n",
    "**.items()** # retorna o par chave-valor como tupla. Útil quando precisamos iterar sobre os dois.\n",
    "\n"
   ]
  },
  {
   "cell_type": "code",
   "execution_count": 56,
   "metadata": {
    "pycharm": {
     "name": "#%%\n"
    }
   },
   "outputs": [
    {
     "data": {
      "text/plain": [
       "{'nome': 'Bruna', 'curso': 'Lógica de programação', 'nota': 10}"
      ]
     },
     "execution_count": 56,
     "metadata": {},
     "output_type": "execute_result"
    }
   ],
   "source": [
    "del participante['faltas'] # apaga um item\n",
    "participante"
   ]
  },
  {
   "cell_type": "code",
   "execution_count": 62,
   "metadata": {
    "pycharm": {
     "name": "#%%\n"
    }
   },
   "outputs": [
    {
     "data": {
      "text/plain": [
       "{'nome': 'Bruna',\n",
       " 'curso': 'Lógica de programação',\n",
       " 'nota': 10,\n",
       " 5: 'número da chamada'}"
      ]
     },
     "execution_count": 62,
     "metadata": {},
     "output_type": "execute_result"
    }
   ],
   "source": [
    "participante[5] = \"número da chamada\"\n",
    "participante"
   ]
  },
  {
   "cell_type": "code",
   "execution_count": 63,
   "metadata": {
    "pycharm": {
     "name": "#%%\n"
    }
   },
   "outputs": [
    {
     "data": {
      "text/plain": [
       "'número da chamada'"
      ]
     },
     "execution_count": 63,
     "metadata": {},
     "output_type": "execute_result"
    }
   ],
   "source": [
    "participante.pop(5)"
   ]
  },
  {
   "cell_type": "code",
   "execution_count": 64,
   "metadata": {
    "pycharm": {
     "name": "#%%\n"
    }
   },
   "outputs": [
    {
     "data": {
      "text/plain": [
       "{'nome': 'Bruna', 'curso': 'Lógica de programação', 'nota': 10}"
      ]
     },
     "execution_count": 64,
     "metadata": {},
     "output_type": "execute_result"
    }
   ],
   "source": [
    "participante"
   ]
  },
  {
   "cell_type": "code",
   "execution_count": 69,
   "metadata": {
    "pycharm": {
     "name": "#%%\n"
    }
   },
   "outputs": [
    {
     "data": {
      "text/plain": [
       "dict_keys(['nome', 'curso', 'nota'])"
      ]
     },
     "execution_count": 69,
     "metadata": {},
     "output_type": "execute_result"
    }
   ],
   "source": [
    "participante.keys()"
   ]
  },
  {
   "cell_type": "code",
   "execution_count": 71,
   "metadata": {
    "pycharm": {
     "name": "#%%\n"
    }
   },
   "outputs": [
    {
     "data": {
      "text/plain": [
       "dict_values(['Bruna', 'Introdução à Lógica de Programação com Python', 10, [8.7, 9.5, 10], [7, 8.5, 7.8, 10]])"
      ]
     },
     "execution_count": 71,
     "metadata": {},
     "output_type": "execute_result"
    }
   ],
   "source": [
    "participante.values()"
   ]
  },
  {
   "cell_type": "code",
   "execution_count": 68,
   "metadata": {
    "pycharm": {
     "name": "#%%\n"
    }
   },
   "outputs": [
    {
     "data": {
      "text/plain": [
       "dict_items([('nome', 'Bruna'), ('curso', 'Lógica de programação'), ('nota', 10)])"
      ]
     },
     "execution_count": 68,
     "metadata": {},
     "output_type": "execute_result"
    }
   ],
   "source": [
    "participante.items()"
   ]
  },
  {
   "cell_type": "code",
   "execution_count": 70,
   "metadata": {
    "pycharm": {
     "name": "#%%\n"
    }
   },
   "outputs": [
    {
     "data": {
      "text/plain": [
       "{'nome': 'Bruna',\n",
       " 'curso': 'Introdução à Lógica de Programação com Python',\n",
       " 'nota': 10,\n",
       " 'provas': [8.7, 9.5, 10],\n",
       " 'exercícios': [7, 8.5, 7.8, 10]}"
      ]
     },
     "execution_count": 70,
     "metadata": {},
     "output_type": "execute_result"
    }
   ],
   "source": [
    "notas = {\"curso\": \"Introdução à Lógica de Programação com Python\", \"nota\": 10, \"provas\": [8.7, 9.5, 10], \"exercícios\": [7, 8.5, 7.8, 10]}\n",
    "\n",
    "participante.update(notas)\n",
    "participante"
   ]
  },
  {
   "cell_type": "markdown",
   "metadata": {
    "pycharm": {
     "name": "#%% md\n"
    }
   },
   "source": [
    "## Estruturas condicionais e de repetição"
   ]
  },
  {
   "cell_type": "markdown",
   "metadata": {
    "pycharm": {
     "name": "#%% md\n"
    }
   },
   "source": [
    "## *if* *else*\n",
    "Checa se uma condicão é um booleano verdadeiro ou pode ser avaliado como True"
   ]
  },
  {
   "cell_type": "code",
   "execution_count": null,
   "metadata": {
    "pycharm": {
     "name": "#%%\n"
    }
   },
   "outputs": [],
   "source": [
    "sol = 'sim'\n",
    "if sol == 'sim':\n",
    "    print('Durante a viagem fará sol!')\n",
    "else:\n",
    "    print('Durante a viagem o tempo ficará fechado!')"
   ]
  },
  {
   "cell_type": "markdown",
   "metadata": {
    "pycharm": {
     "name": "#%% md\n"
    }
   },
   "source": [
    "Podemos colocar mais condicões no nosso código:"
   ]
  },
  {
   "cell_type": "code",
   "execution_count": null,
   "metadata": {
    "pycharm": {
     "name": "#%%\n"
    }
   },
   "outputs": [],
   "source": [
    "sol = 'sim'\n",
    "temp = 30\n",
    "if sol == 'sim':\n",
    "    if temp >= 25:\n",
    "        print('Durante a viagem fará sol e muito calor!')\n",
    "    else:\n",
    "        print('Durante a viagem fará sol mas pouco calor')\n",
    "else:\n",
    "    if temp >= 25:\n",
    "        print('Durante a viagem o tempo ficará fechado e abafado!')\n",
    "    else:\n",
    "        print(\"Durante a viagem o sol não aparecerá e ficará frio\")"
   ]
  },
  {
   "cell_type": "markdown",
   "metadata": {
    "pycharm": {
     "name": "#%% md\n"
    }
   },
   "source": [
    "![](../img/elif_meme.png)"
   ]
  },
  {
   "cell_type": "markdown",
   "metadata": {
    "pycharm": {
     "name": "#%% md\n"
    }
   },
   "source": [
    "Se há mais de duas possibilidades a serem testadas, use para a primeira, elif (que significa else\n",
    "if) para as possibilidades intermediárias, e else para a última:"
   ]
  },
  {
   "cell_type": "code",
   "execution_count": 1,
   "metadata": {
    "pycharm": {
     "name": "#%%\n"
    }
   },
   "outputs": [
    {
     "name": "stdout",
     "output_type": "stream",
     "text": [
      "Nunca ouvi falar da cor  cor de burro quando foge\n"
     ]
    }
   ],
   "source": [
    "cor = \"cor de burro quando foge\"\n",
    "\n",
    "if cor == \"vermelho\":\n",
    "    print(\"A cor é vermelho que nem tomate\")\n",
    "elif cor == \"verde\":\n",
    "    print(\"A cor é verde que nem pimentão\")\n",
    "elif cor == \"amarela\":\n",
    "    print(\"A cor é amarelo que nem banana\")\n",
    "else:\n",
    "    print(\"Nunca ouvi falar da cor \", cor)"
   ]
  },
  {
   "cell_type": "markdown",
   "metadata": {
    "pycharm": {
     "name": "#%% md\n"
    }
   },
   "source": [
    "Abaixo temos a lista de operadores de comparacão que usamos para construir as regras com o comando if/elif/else\n",
    "\n",
    "![](../img/operadores_logicos.png)"
   ]
  },
  {
   "cell_type": "code",
   "execution_count": 10,
   "outputs": [
    {
     "data": {
      "text/plain": "False"
     },
     "execution_count": 10,
     "metadata": {},
     "output_type": "execute_result"
    }
   ],
   "source": [
    "caixa = 1000\n",
    "divida = 500\n",
    "(caixa > 800) and (divida < 100)"
   ],
   "metadata": {
    "collapsed": false,
    "pycharm": {
     "name": "#%%\n"
    }
   }
  },
  {
   "cell_type": "markdown",
   "source": [
    "Se você tiver de fazer várias comparacões com o operador *or*, podemos usar o operador de filiacão do Python (membership operator)."
   ],
   "metadata": {
    "collapsed": false,
    "pycharm": {
     "name": "#%% md\n"
    }
   }
  },
  {
   "cell_type": "code",
   "execution_count": 11,
   "outputs": [
    {
     "name": "stdout",
     "output_type": "stream",
     "text": [
      "o  é uma vogal!\n"
     ]
    }
   ],
   "source": [
    "letra = \"o\"\n",
    "\n",
    "if letra == \"a\" or letra == \"e\" or letra == \"i\" or letra == \"o\" or letra == \"u\":\n",
    "    print(letra, \" é uma vogal!\")\n",
    "else:\n",
    "    print(letra, \" não é uma vogal!\")"
   ],
   "metadata": {
    "collapsed": false,
    "pycharm": {
     "name": "#%%\n"
    }
   }
  },
  {
   "cell_type": "code",
   "execution_count": null,
   "outputs": [],
   "source": [
    "vogais = \"aeiou\"\n",
    "letra = \"o\"\n",
    "if letra in vogais:\n",
    "    print(letra, \" é uma vogal!\")"
   ],
   "metadata": {
    "collapsed": false,
    "pycharm": {
     "name": "#%%\n"
    }
   }
  },
  {
   "cell_type": "markdown",
   "source": [
    "## While"
   ],
   "metadata": {
    "collapsed": false,
    "pycharm": {
     "name": "#%% md\n"
    }
   }
  },
  {
   "cell_type": "markdown",
   "source": [
    "O while é usado quando precisamos repetir uma ação enquanto determinadas condições permanecem verdadeiras"
   ],
   "metadata": {
    "collapsed": false,
    "pycharm": {
     "name": "#%% md\n"
    }
   }
  },
  {
   "cell_type": "code",
   "execution_count": 13,
   "outputs": [
    {
     "name": "stdout",
     "output_type": "stream",
     "text": [
      "1\n",
      "2\n",
      "3\n",
      "4\n",
      "5\n"
     ]
    }
   ],
   "source": [
    "conta = 1\n",
    "while conta <= 5:\n",
    "    print(conta)\n",
    "    conta +=1 # mesma coisa que conta = conta + 1"
   ],
   "metadata": {
    "collapsed": false,
    "pycharm": {
     "name": "#%%\n"
    }
   }
  },
  {
   "cell_type": "markdown",
   "source": [
    "Se quisermos iterar até algo ocorrer, mas não sabemos quando essa coisa vai ocorrer, podemos usar um *loop* infinito com o comando break"
   ],
   "metadata": {
    "collapsed": false,
    "pycharm": {
     "name": "#%% md\n"
    }
   }
  },
  {
   "cell_type": "code",
   "execution_count": 15,
   "outputs": [
    {
     "name": "stdout",
     "output_type": "stream",
     "text": [
      "Testando\n",
      "Teste\n",
      "Bruna\n",
      "Chat\n",
      "Um\n"
     ]
    }
   ],
   "source": [
    "while True:\n",
    "    value = input(\"Digite a string a ser capitalizada [digite q para sair]: \")\n",
    "    if value == \"q\":\n",
    "        break\n",
    "    print(value.capitalize())"
   ],
   "metadata": {
    "collapsed": false,
    "pycharm": {
     "name": "#%%\n"
    }
   }
  },
  {
   "cell_type": "markdown",
   "source": [
    "Às vezes só queremos avancar para o próximo item ao invés de para o *loop*. Nesse caso usamo o comando continue"
   ],
   "metadata": {
    "collapsed": false,
    "pycharm": {
     "name": "#%% md\n"
    }
   }
  },
  {
   "cell_type": "code",
   "execution_count": 18,
   "outputs": [
    {
     "name": "stdout",
     "output_type": "stream",
     "text": [
      "3 ao quadrado é 9\n"
     ]
    }
   ],
   "source": [
    "while True:\n",
    "    value = input(\"Digite um numero inteiro[digite q para sair]: \")\n",
    "    if value == 'q':\n",
    "        break\n",
    "    number = int(value) # transforma em inteiro\n",
    "    if number % 2 == 0: # numero par\n",
    "        continue\n",
    "    print(number, \"ao quadrado é\", number*number)"
   ],
   "metadata": {
    "collapsed": false,
    "pycharm": {
     "name": "#%%\n"
    }
   }
  },
  {
   "cell_type": "markdown",
   "source": [
    "## For\n",
    "Com o laço for podemos executar a mesma ação em todos os elementos de uma string, lista, dicionário e tipos de variáveis e estruturas de dados do Python. Essa é uma das maneiras mais comuns para um computador automatizar tarefas repetitivas."
   ],
   "metadata": {
    "collapsed": false,
    "pycharm": {
     "name": "#%% md\n"
    }
   }
  },
  {
   "cell_type": "code",
   "source": [
    "palavra = \"tempo\"\n",
    "\n",
    "for letra in palavra:\n",
    "    print(letra)\n"
   ],
   "metadata": {
    "collapsed": false,
    "pycharm": {
     "name": "#%%\n"
    }
   },
   "execution_count": 30,
   "outputs": [
    {
     "name": "stdout",
     "output_type": "stream",
     "text": [
      "t\n",
      "e\n",
      "m\n",
      "p\n",
      "o\n"
     ]
    }
   ]
  },
  {
   "cell_type": "code",
   "execution_count": 32,
   "outputs": [
    {
     "name": "stdout",
     "output_type": "stream",
     "text": [
      "abacaxi\n",
      "melancia\n",
      "amora\n",
      "abacate\n",
      "uva\n",
      "morango\n",
      "banana\n"
     ]
    }
   ],
   "source": [
    "frutas = ['abacaxi', 'melancia', 'amora','abacate', 'uva', 'morango', 'banana']\n",
    "\n",
    "for fruta in frutas:\n",
    "    print(fruta)"
   ],
   "metadata": {
    "collapsed": false,
    "pycharm": {
     "name": "#%%\n"
    }
   }
  },
  {
   "cell_type": "code",
   "execution_count": 36,
   "outputs": [
    {
     "name": "stdout",
     "output_type": "stream",
     "text": [
      "0\n",
      "1\n",
      "2\n"
     ]
    }
   ],
   "source": [
    "# a funcão range gera uma sequência de valores dentro de um intervalo\n",
    "for item in range(0,3): # o ultimo valor a ser criado é o 2\n",
    "    print(item)"
   ],
   "metadata": {
    "collapsed": false,
    "pycharm": {
     "name": "#%%\n"
    }
   }
  },
  {
   "cell_type": "code",
   "execution_count": 38,
   "outputs": [
    {
     "name": "stdout",
     "output_type": "stream",
     "text": [
      "2\n",
      "1\n",
      "0\n"
     ]
    }
   ],
   "source": [
    "for item in range(2, -1, -1): # range(start, stop, step)\n",
    "    print(item)"
   ],
   "metadata": {
    "collapsed": false,
    "pycharm": {
     "name": "#%%\n"
    }
   }
  },
  {
   "cell_type": "code",
   "execution_count": 35,
   "outputs": [
    {
     "name": "stdout",
     "output_type": "stream",
     "text": [
      "Abacaxi\n",
      "A fruta melancia não começa com a letra a!\n",
      "Amora\n",
      "Abacate\n",
      "A fruta uva não começa com a letra a!\n",
      "A fruta morango não começa com a letra a!\n",
      "A fruta banana não começa com a letra a!\n"
     ]
    }
   ],
   "source": [
    "for fruta in frutas:\n",
    " \tif fruta.startswith('a'):\n",
    "  \t\tprint(fruta.capitalize())\n",
    " \telse:\n",
    "  \t\tprint('A fruta {} não começa com a letra a!'.format(fruta))"
   ],
   "metadata": {
    "collapsed": false,
    "pycharm": {
     "name": "#%%\n"
    }
   }
  },
  {
   "cell_type": "markdown",
   "source": [
    "Podemos iterar sobre múltiplas listas em paralelo usando a funcão *zip()*"
   ],
   "metadata": {
    "collapsed": false,
    "pycharm": {
     "name": "#%% md\n"
    }
   }
  },
  {
   "cell_type": "code",
   "execution_count": 51,
   "outputs": [
    {
     "name": "stdout",
     "output_type": "stream",
     "text": [
      "segunda : beber café  - comer abacaxi - sair da dieta com pudim\n",
      "terca : beber suco  - comer melancia - sair da dieta com chocolate\n",
      "quarta : beber água  - comer amora - sair da dieta com sorvete\n"
     ]
    }
   ],
   "source": [
    "dias = [\"segunda\", \"terca\", \"quarta\", \"quinta\", \"sexta\"] # 5 dias\n",
    "frutas = ['abacaxi', 'melancia', 'amora'] # 3 frutas\n",
    "bebidas = [\"café\", \"suco\", \"água\", \"cerveja\", \"vinho\"] # 5 bebidas\n",
    "sobremesas = [\"pudim\", \"chocolate\", \"sorvete\",\"torta\", \"cookie\"] # 5 sobremesas\n",
    "\n",
    "for dia, fruta, bebida, sobremesa in zip(dias, frutas, bebidas, sobremesas):\n",
    "    print(dia, \": beber\", bebida, \" - comer\", fruta, \"- sair da dieta com\", sobremesa) # ordem pode trocar aqui"
   ],
   "metadata": {
    "collapsed": false,
    "pycharm": {
     "name": "#%%\n"
    }
   }
  },
  {
   "cell_type": "code",
   "execution_count": 52,
   "outputs": [
    {
     "name": "stdout",
     "output_type": "stream",
     "text": [
      "{'Monday': 'Segunda-feira', 'Tuesday': 'Terca-feira', 'Wednesday': 'Quarta-feira', 'Thursday': 'Quinta-feira', 'Saturaday': 'Sexta-feira', 'Sunday': 'Sábado'}\n"
     ]
    }
   ],
   "source": [
    "portugues = [\"Segunda-feira\", \"Terca-feira\", \"Quarta-feira\", \"Quinta-feira\", \"Sexta-feira\", \"Sábado\", \"Domingo\"]\n",
    "\n",
    "ingles = [\"Monday\", \"Tuesday\", \"Wednesday\", \"Thursday\", \"Saturaday\", \"Sunday\"]\n",
    "\n",
    "dicionario = dict(zip(ingles, portugues))\n",
    "print(dicionario)"
   ],
   "metadata": {
    "collapsed": false,
    "pycharm": {
     "name": "#%%\n"
    }
   }
  }
 ],
 "metadata": {
  "kernelspec": {
   "display_name": "Python 3 (ipykernel)",
   "language": "python",
   "name": "python3"
  },
  "language_info": {
   "codemirror_mode": {
    "name": "ipython",
    "version": 3
   },
   "file_extension": ".py",
   "mimetype": "text/x-python",
   "name": "python",
   "nbconvert_exporter": "python",
   "pygments_lexer": "ipython3",
   "version": "3.9.5"
  }
 },
 "nbformat": 4,
 "nbformat_minor": 1
}